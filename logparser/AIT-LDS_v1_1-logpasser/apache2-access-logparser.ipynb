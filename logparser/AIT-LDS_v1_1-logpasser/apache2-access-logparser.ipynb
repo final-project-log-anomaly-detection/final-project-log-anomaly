{
 "cells": [
  {
   "cell_type": "code",
   "execution_count": null,
   "metadata": {},
   "outputs": [],
   "source": [
    "import sys\n",
    "import os\n",
    "\n",
    "sys.path.append('../')\n",
    "\n",
    "import Drain"
   ]
  },
  {
   "cell_type": "code",
   "execution_count": null,
   "metadata": {},
   "outputs": [],
   "source": [
    "inputs_dir = ['../../AIT-LDS-v1_1/data/mail.cup.com/apache2',\n",
    "              '../../AIT-LDS-v1_1/data/mail.insect.com/apache2',\n",
    "              '../../AIT-LDS-v1_1/data/mail.onion.com/apache2',\n",
    "              '../../AIT-LDS-v1_1/data/mail.spiral.com/apache2'\n",
    "              ]\n",
    "\n",
    "#['mail.cup.com', 'mail.insect.com', 'mail.onion.com', 'mail.spiral.com' ]\n",
    "# เอาข้อความด้านบนเป็น folder ให้สอดคล้องกับ data ที่ใช้\n",
    "outputs_dir = '../../Drain_result/apache2_mail.cup.com'\n",
    "\n",
    "st = 0.5  # Similarity threshold\n",
    "depth = 4  # Depth of all leaf nodes\n",
    "\n",
    "log_file = ['mail.cup.com-access.log', 'mail.insect.com-access.log',\n",
    "            'mail.onion.com-access.log', 'mail.spiral.com-access.log', 'test.log']\n",
    "\n",
    "log_format = '<IP> - - \\[<DateTime>\\] \"<Content>\"'\n",
    "\n",
    "regex = [\n",
    "    {'regex': r'(GET|POST|OPTIONS)', 'name': 'Method'},  # Methods\n",
    "    {'regex': r'(\"http:.*?\"|\"https:.*?\")', 'name': 'URL'},  # URL\n",
    "    {'regex': r'[0-9]+', 'name': 'Numbers'},  # Numbers\n",
    "]"
   ]
  },
  {
   "cell_type": "code",
   "execution_count": null,
   "metadata": {},
   "outputs": [],
   "source": [
    "parser = Drain.LogParser(log_format, indir=inputs_dir[0], outdir=outputs_dir,  depth=depth, st=st, rex=regex)\n",
    "parser.parse(log_file[0])"
   ]
  }
 ],
 "metadata": {
  "kernelspec": {
   "display_name": "Python 3",
   "language": "python",
   "name": "python3"
  },
  "language_info": {
   "codemirror_mode": {
    "name": "ipython",
    "version": 3
   },
   "file_extension": ".py",
   "mimetype": "text/x-python",
   "name": "python",
   "nbconvert_exporter": "python",
   "pygments_lexer": "ipython3",
   "version": "3.6.8"
  },
  "orig_nbformat": 4,
  "vscode": {
   "interpreter": {
    "hash": "aee8b7b246df8f9039afb4144a1f6fd8d2ca17a180786b69acc140d282b71a49"
   }
  }
 },
 "nbformat": 4,
 "nbformat_minor": 2
}
