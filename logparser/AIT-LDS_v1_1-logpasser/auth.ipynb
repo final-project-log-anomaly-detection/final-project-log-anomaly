{
 "cells": [
  {
   "cell_type": "code",
   "execution_count": 1,
   "metadata": {},
   "outputs": [],
   "source": [
    "import sys\n",
    "import os\n",
    "\n",
    "sys.path.append('../')\n",
    "\n",
    "import Drain"
   ]
  },
  {
   "cell_type": "code",
   "execution_count": 2,
   "metadata": {},
   "outputs": [],
   "source": [
    "inputs_dir = ['../../AIT-LDS-v1_1/data/mail.cup.com',\n",
    "              '../../AIT-LDS-v1_1/data/mail.insect.com',\n",
    "              '../../AIT-LDS-v1_1/data/mail.onion.com',\n",
    "              '../../AIT-LDS-v1_1/data/mail.spiral.com'\n",
    "              ]\n",
    "\n",
    "st = 0.5  # Similarity threshold\n",
    "depth = 4  # Depth of all leaf nodes\n",
    "\n",
    "log_file = 'auth.log'\n",
    "\n",
    "log_format = '<Month> <Day> <Time> <Type> <Job>: <Pam_unix>: <Content>'\n",
    "\n",
    "regex = [\n",
    "    {'regex': r'(/|)([0-9]+\\.){3}[0-9]+(:[0-9]+|)(:|)', 'name': 'IP'},  # IP\n",
    "    {'regex': r'[0-9]+', 'name': 'Numbers'},  # Numbers\n",
    "]"
   ]
  },
  {
   "cell_type": "code",
   "execution_count": 3,
   "metadata": {},
   "outputs": [
    {
     "name": "stdout",
     "output_type": "stream",
     "text": [
      "Parsing file: ../../AIT-LDS-v1_1/data/mail.onion.com/auth.log\n"
     ]
    },
    {
     "name": "stderr",
     "output_type": "stream",
     "text": [
      "Parsing log :: 100%|██████████| 1050/1050 [00:00<00:00, 13550.62it/s]\n",
      "<bound method LogParser.get_parameter_list of <Drain.drain.LogParser object at 0x7fa1f92c1dd8>>\n"
     ]
    },
    {
     "name": "stdout",
     "output_type": "stream",
     "text": [
      "Parsing done. [Time taken: 0:00:00.127849]\n"
     ]
    }
   ],
   "source": [
    "outputs_dir = '../../Drain_result/AIT_auth_mail.spiral.com' # mail.cup.com, mail.insect.com, mail.onion.com, mail.spiral.com\n",
    "parser = Drain.LogParser(log_format, indir=inputs_dir[3], outdir=outputs_dir,  depth=depth, st=st, rex=regex)\n",
    "parser.parse(log_file)"
   ]
  }
 ],
 "metadata": {
  "kernelspec": {
   "display_name": "Python 3",
   "language": "python",
   "name": "python3"
  },
  "language_info": {
   "codemirror_mode": {
    "name": "ipython",
    "version": 3
   },
   "file_extension": ".py",
   "mimetype": "text/x-python",
   "name": "python",
   "nbconvert_exporter": "python",
   "pygments_lexer": "ipython3",
   "version": "3.6.8"
  },
  "orig_nbformat": 4,
  "vscode": {
   "interpreter": {
    "hash": "aee8b7b246df8f9039afb4144a1f6fd8d2ca17a180786b69acc140d282b71a49"
   }
  }
 },
 "nbformat": 4,
 "nbformat_minor": 2
}
