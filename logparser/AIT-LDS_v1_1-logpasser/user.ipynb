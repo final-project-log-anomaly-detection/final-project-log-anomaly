{
 "cells": [
  {
   "cell_type": "code",
   "execution_count": 1,
   "metadata": {},
   "outputs": [],
   "source": [
    "import sys\n",
    "import os\n",
    "\n",
    "sys.path.append('../')\n",
    "\n",
    "import Drain"
   ]
  },
  {
   "cell_type": "code",
   "execution_count": 2,
   "metadata": {},
   "outputs": [],
   "source": [
    "inputs_dir = ['../../AIT-LDS-v1_1/data/mail.cup.com',\n",
    "              '../../AIT-LDS-v1_1/data/mail.insect.com',\n",
    "              '../../AIT-LDS-v1_1/data/mail.onion.com',\n",
    "              '../../AIT-LDS-v1_1/data/mail.spiral.com'\n",
    "              ]\n",
    "#['mail.cup.com', 'mail.insect.com', 'mail.onion.com', 'mail.spiral.com' ]\n",
    "# เอาข้อความด้านบนเป็น folder ให้สอดคล้องกับ data ที่ใช้\n",
    "outputs_dir = '../../Drain_result/AIT_user_mail.cup.com'\n",
    "\n",
    "st = 0.5  # Similarity threshold\n",
    "depth = 4  # Depth of all leaf nodes\n",
    "\n",
    "log_file = 'user.log'\n",
    "\n",
    "log_format = '<Month> <Day> <Time> <Type> <Job>: <Content>'\n",
    "\n",
    "regex = [\n",
    "    {'regex': r'(/|)([0-9]+\\.){3}[0-9]+(:[0-9]+|)(:|)', 'name': 'IP'},  # IP\n",
    "    {'regex': r'[0-9]+', 'name': 'Numbers'}  # Numbers\n",
    "]"
   ]
  },
  {
   "cell_type": "code",
   "execution_count": 3,
   "metadata": {},
   "outputs": [
    {
     "name": "stdout",
     "output_type": "stream",
     "text": [
      "Parsing file: ../../AIT-LDS-v1_1/data/mail.cup.com/user.log\n",
      "Processed 2.9% of log lines.\n",
      "Processed 5.8% of log lines.\n",
      "Processed 8.7% of log lines.\n",
      "Processed 11.7% of log lines.\n",
      "Processed 14.6% of log lines.\n",
      "Processed 17.5% of log lines.\n",
      "Processed 20.4% of log lines.\n",
      "Processed 23.3% of log lines.\n",
      "Processed 26.2% of log lines.\n",
      "Processed 29.1% of log lines.\n",
      "Processed 32.0% of log lines.\n",
      "Processed 35.0% of log lines.\n",
      "Processed 37.9% of log lines.\n",
      "Processed 40.8% of log lines.\n",
      "Processed 43.7% of log lines.\n",
      "Processed 46.6% of log lines.\n",
      "Processed 49.5% of log lines.\n",
      "Processed 52.4% of log lines.\n",
      "Processed 55.3% of log lines.\n",
      "Processed 58.3% of log lines.\n",
      "Processed 61.2% of log lines.\n",
      "Processed 64.1% of log lines.\n",
      "Processed 67.0% of log lines.\n",
      "Processed 69.9% of log lines.\n",
      "Processed 72.8% of log lines.\n",
      "Processed 75.7% of log lines.\n",
      "Processed 78.7% of log lines.\n",
      "Processed 81.6% of log lines.\n",
      "Processed 84.5% of log lines.\n",
      "Processed 87.4% of log lines.\n",
      "Processed 90.3% of log lines.\n",
      "Processed 93.2% of log lines.\n",
      "Processed 96.1% of log lines.\n",
      "Processed 99.0% of log lines.\n"
     ]
    },
    {
     "name": "stderr",
     "output_type": "stream",
     "text": [
      "<bound method LogParser.get_parameter_list of <Drain.drain.LogParser object at 0x7fe9c186c0f0>>\n"
     ]
    },
    {
     "name": "stdout",
     "output_type": "stream",
     "text": [
      "Processed 100.0% of log lines.\n",
      "Parsing done. [Time taken: 0:00:06.873460]\n"
     ]
    }
   ],
   "source": [
    "parser = Drain.LogParser(log_format, indir=inputs_dir[0], outdir=outputs_dir,  depth=depth, st=st, rex=regex)\n",
    "parser.parse(log_file)"
   ]
  }
 ],
 "metadata": {
  "kernelspec": {
   "display_name": "Python 3",
   "language": "python",
   "name": "python3"
  },
  "language_info": {
   "codemirror_mode": {
    "name": "ipython",
    "version": 3
   },
   "file_extension": ".py",
   "mimetype": "text/x-python",
   "name": "python",
   "nbconvert_exporter": "python",
   "pygments_lexer": "ipython3",
   "version": "3.6.8"
  },
  "orig_nbformat": 4,
  "vscode": {
   "interpreter": {
    "hash": "aee8b7b246df8f9039afb4144a1f6fd8d2ca17a180786b69acc140d282b71a49"
   }
  }
 },
 "nbformat": 4,
 "nbformat_minor": 2
}
