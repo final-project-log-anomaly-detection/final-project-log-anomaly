{
 "cells": [
  {
   "cell_type": "code",
   "execution_count": 1,
   "metadata": {},
   "outputs": [],
   "source": [
    "import Drain\n",
    "import sys\n",
    "sys.path.append('../')"
   ]
  },
  {
   "cell_type": "code",
   "execution_count": 2,
   "metadata": {},
   "outputs": [],
   "source": [
    "input_dir = '../ThunderBird/'\n",
    "output_dir = '../Drain_result/'  # The output directory of parsing results"
   ]
  },
  {
   "cell_type": "code",
   "execution_count": 3,
   "metadata": {},
   "outputs": [],
   "source": [
    "log_file = 'Thunderbird_10M.log'\n",
    "\n",
    "log_format = '<Label> <Timestamp> <Date> <User> <Month> <Day> <Time> <Location> <Component>(\\[<PID>\\])?: <Content>'\n",
    "\n",
    "regex = [\n",
    "    {'regex': r'message-id=<.+>$', 'name':'Message_id'},\n",
    "    {'regex': r'jA.{12}(?=:)|jA.{12}(?=,)|jA.{12}(?=@)|jA.{12}(?= )', 'name':'Code_A'},\n",
    "    {'regex': r'jB.{12}(?=:)|jB.{12}(?=,)|jB.{12}(?=@)|jB.{12}(?= )', 'name':'Code_B'},\n",
    "    {'regex': r'(?<=GUID=).{13}(?=,)', 'name': 'GUID'},\n",
    "    {'regex': r'(?<=node=).{13,14}(?=,)', 'name':'Node'},\n",
    "    {'regex': r'(0[xX])[a-fA-F0-9]{1,13}', 'name': 'Hexadecimal'},\n",
    "    {'regex': r'(0[xX])[a-fA-F0-9]{16}', 'name': 'Hexadecimal'},\n",
    "    {'regex': r'[A-Fa-f0-9]{16}', 'name': 'Hexadecimal'},\n",
    "    {'regex': r'[A-Fa-f0-9]{13}', 'name': 'Hexadecimal'},\n",
    "    {'regex': r'[A-Fa-f0-9]{11}', 'name': 'Hexadecimal'},\n",
    "    {'regex': r'[A-Fa-f0-9]{8}', 'name': 'Hexadecimal'},\n",
    "    {'regex': r'(/|)([0-9]+\\.){3}[0-9]+(:[0-9]+|)(:|)', 'name': 'IP'},  # IP\n",
    "    {'regex': r'\\\\_SB_.+_PRT', 'name': 'RT'},  # routing table\n",
    "    {'regex': r'(\\/.*?\\/)((?:[^\\/]|\\\\\\/)+?)(?:(?<!\\\\):|$)', 'name': 'Path'},  # path\n",
    "    {'regex': r'(\\/[\\w.-]+)+(\\.\\w+)?', 'name': 'Path'},  # path\n",
    "    {'regex': r'[0-9]+', 'name': 'Numbers'},  # Numbers\n",
    "]\n",
    "\n",
    "st = 0.5  # Similarity threshold\n",
    "depth = 4  # Depth of all leaf nodes"
   ]
  },
  {
   "cell_type": "code",
   "execution_count": 4,
   "metadata": {},
   "outputs": [
    {
     "name": "stdout",
     "output_type": "stream",
     "text": [
      "Parsing file: ../ThunderBird/Thunderbird_10M.log\n"
     ]
    },
    {
     "name": "stderr",
     "output_type": "stream",
     "text": [
      "Parsing log :: 100%|██████████| 9975132/9975132 [43:46<00:00, 3797.27it/s]  \n",
      "<bound method LogParser.get_parameter_list of <Drain.drain.LogParser object at 0x7f87406268d0>>\n"
     ]
    },
    {
     "name": "stdout",
     "output_type": "stream",
     "text": [
      "Parsing done. [Time taken: 1:16:05.557211]\n"
     ]
    }
   ],
   "source": [
    "parser = Drain.LogParser(log_format, indir=input_dir, outdir=output_dir,  depth=depth, st=st, rex=regex)\n",
    "parser.parse(log_file)"
   ]
  }
 ],
 "metadata": {
  "kernelspec": {
   "display_name": "Python 3",
   "language": "python",
   "name": "python3"
  },
  "language_info": {
   "codemirror_mode": {
    "name": "ipython",
    "version": 3
   },
   "file_extension": ".py",
   "mimetype": "text/x-python",
   "name": "python",
   "nbconvert_exporter": "python",
   "pygments_lexer": "ipython3",
   "version": "3.6.8"
  },
  "orig_nbformat": 4,
  "vscode": {
   "interpreter": {
    "hash": "aee8b7b246df8f9039afb4144a1f6fd8d2ca17a180786b69acc140d282b71a49"
   }
  }
 },
 "nbformat": 4,
 "nbformat_minor": 2
}
