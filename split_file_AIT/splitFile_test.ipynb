{
 "cells": [
  {
   "cell_type": "code",
   "execution_count": null,
   "metadata": {},
   "outputs": [],
   "source": [
    "!rm line.log"
   ]
  },
  {
   "cell_type": "code",
   "execution_count": null,
   "metadata": {},
   "outputs": [],
   "source": [
    "!rm label_anomaly.log"
   ]
  },
  {
   "cell_type": "code",
   "execution_count": null,
   "metadata": {},
   "outputs": [],
   "source": [
    "a = open('../AIT-LDS-v1_1/labels/mail.spiral.com/audit/audit.log', 'rb')\n",
    "file1 = open(\"label_anomaly.log\", \"wb\")\n",
    "file_line = open(\"line.log\", 'w')\n",
    "num = 0\n",
    "first = 0\n",
    "n_line = 0\n",
    "for i, text in enumerate(a):\n",
    "    if \"0,0\" not in str(text):\n",
    "        file1.write(f\"{text.decode()}\".encode())\n",
    "        file1.flush()\n",
    "        file_line.write(str(i)+'\\n')\n",
    "        file_line.flush()\n",
    "        n_line += 1\n",
    "    if i == 50000000:\n",
    "        break"
   ]
  },
  {
   "cell_type": "code",
   "execution_count": null,
   "metadata": {},
   "outputs": [],
   "source": [
    "n_line"
   ]
  },
  {
   "cell_type": "code",
   "execution_count": null,
   "metadata": {},
   "outputs": [],
   "source": [
    "!rm test_anomaly.log"
   ]
  },
  {
   "cell_type": "code",
   "execution_count": null,
   "metadata": {},
   "outputs": [],
   "source": [
    "b = open(\"../AIT-LDS-v1_1/data/mail.spiral.com/audit/audit.log\", 'rb')\n",
    "line2 = open(\"line.log\", 'r')\n",
    "file2 = open(\"test_anomaly.log\", \"wb\")\n",
    "num = 0\n",
    "a = []\n",
    "with open('line.log', 'r') as f:\n",
    "    for line in f:\n",
    "        a.append(int(line.strip()))    \n",
    "        if 'str' in line:\n",
    "            break\n",
    "\n",
    "for i in range(50000000):\n",
    "    text = b.readline()"
   ]
  },
  {
   "cell_type": "code",
   "execution_count": null,
   "metadata": {},
   "outputs": [],
   "source": [
    "import pandas as pd\n",
    "\n",
    "label = pd.read_csv(\"./label_anomaly.log\")"
   ]
  },
  {
   "cell_type": "code",
   "execution_count": null,
   "metadata": {},
   "outputs": [],
   "source": []
  }
 ],
 "metadata": {
  "kernelspec": {
   "display_name": "Python 3",
   "language": "python",
   "name": "python3"
  },
  "language_info": {
   "codemirror_mode": {
    "name": "ipython",
    "version": 3
   },
   "file_extension": ".py",
   "mimetype": "text/x-python",
   "name": "python",
   "nbconvert_exporter": "python",
   "pygments_lexer": "ipython3",
   "version": "3.6.8"
  },
  "orig_nbformat": 4,
  "vscode": {
   "interpreter": {
    "hash": "aee8b7b246df8f9039afb4144a1f6fd8d2ca17a180786b69acc140d282b71a49"
   }
  }
 },
 "nbformat": 4,
 "nbformat_minor": 2
}
