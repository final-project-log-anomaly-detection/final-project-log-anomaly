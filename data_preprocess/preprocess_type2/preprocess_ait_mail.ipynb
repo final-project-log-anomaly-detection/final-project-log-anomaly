{
 "cells": [
  {
   "cell_type": "code",
   "execution_count": 7,
   "metadata": {},
   "outputs": [],
   "source": [
    "import pandas as pd\n",
    "import numpy as np\n",
    "\n",
    "from gensim.models import Word2Vec, KeyedVectors\n",
    "from nltk.tokenize import RegexpTokenizer\n",
    "\n",
    "import os\n",
    "import sys\n",
    "\n",
    "sys.path.append(\"../../data_preprocess/\")\n",
    "\n",
    "import pickle\n",
    "import re\n",
    "from utils import json_pretty_dump, word2VecContinueLearning, trainWord2VecModelType2, tokenizeData, convertWord2Vec, text_cleansing, parse_datetime, parse_month\n",
    "seed = 42\n",
    "np.random.seed(seed)\n",
    "\n",
    "# [mail.cup.com, mail.insect.com, mail.onion.com, mail.spiral.com] => choose one of this to ../processed_type2/AIT_preprocessed_type2/mail/<Target>\n",
    "data_dir = \"../processed_type2/AIT_preprocessed_type2/mail/mail.cup.com\"\n",
    "\n",
    "label_dir = [\n",
    "    \"mail.cup.com\",\n",
    "    \"mail.insect.com\",\n",
    "    \"mail.onion.com\",\n",
    "    \"mail.spiral.com\",\n",
    "]\n",
    "\n",
    "# [mail.cup.com, mail.insect.com, mail.onion.com, mail.spiral.com] => choose one of this to ../../Drain_result/AIT_mail_<target>/mail.log_structured.csv\n",
    "# [mail.cup.com, mail.insect.com, mail.onion.com, mail.spiral.com] => choose one of this to ../../Drain_result/AIT_mail_<target>/mail.log_templates.csv\n",
    "params = {\n",
    "    \"struct_file\": \"../../Drain_result/AIT_mail_mail.cup.com/mail.log_structured.csv\",\n",
    "    \"template_file\": \"../../Drain_result/AIT_mail_mail.cup.com/mail.log_templates.csv\",\n",
    "    \"label_file\": f\"../../AIT-LDS-v1_1/labels/{label_dir[0]}/apache2/mail.cup.com-access.log\",\n",
    "}\n",
    "\n",
    "os.makedirs(data_dir, exist_ok=True)"
   ]
  },
  {
   "cell_type": "code",
   "execution_count": 8,
   "metadata": {},
   "outputs": [],
   "source": [
    "struct_log = pd.read_csv(params['struct_file'])\n",
    "template_log = pd.read_csv(params['template_file'])\n",
    "labels = pd.read_csv(params['label_file'])\n",
    "struct_log['time_label'] = labels['time_label']\n",
    "struct_log['line_label'] = labels['line_label']"
   ]
  },
  {
   "cell_type": "code",
   "execution_count": 9,
   "metadata": {},
   "outputs": [],
   "source": [
    "for index, row in struct_log.iterrows():\n",
    "        struct_log.loc[index, \"Month\"] = parse_month(row[\"Month\"])"
   ]
  },
  {
   "cell_type": "code",
   "execution_count": 10,
   "metadata": {},
   "outputs": [],
   "source": [
    "struct_log.sort_values([\"Month\", \"Day\", \"Time\"], inplace=True)"
   ]
  },
  {
   "cell_type": "code",
   "execution_count": 11,
   "metadata": {},
   "outputs": [],
   "source": [
    "split_date = struct_log[(struct_log['line_label'] != \"0\") & (struct_log['time_label'] != \"0\")]\n",
    "split_date = split_date.iloc[0]"
   ]
  },
  {
   "cell_type": "code",
   "execution_count": 12,
   "metadata": {},
   "outputs": [],
   "source": [
    "train_set = pd.DataFrame(columns=[\"LineId\", \"Month\", \"Day\", \"Time\", \"Type\", \"Job\", \"Access\", \"Content\", \"EventId\", \"EventTemplate\", \"EventTemplateIdent\", \"ParameterList\", \"time_label\", \"line_label\"])\n",
    "test_set = pd.DataFrame(columns=[\"LineId\", \"Month\", \"Day\", \"Time\", \"Type\", \"Job\", \"Access\", \"Content\", \"EventId\", \"EventTemplate\", \"EventTemplateIdent\", \"ParameterList\", \"time_label\", \"line_label\"])\n",
    "if len(split_date) > 0:\n",
    "    for index , row in struct_log.iterrows():\n",
    "        if (row.Month < split_date.Month):\n",
    "            train_set = pd.concat([train_set, pd.DataFrame([row])], ignore_index=True)\n",
    "        elif (row[\"Month\"] == split_date[\"Month\"]):\n",
    "            if (row[\"Day\"] < split_date[\"Day\"]):\n",
    "                train_set = pd.concat([train_set, pd.DataFrame([row])], ignore_index=True)\n",
    "            elif (row[\"Day\"] == split_date[\"Day\"]):\n",
    "                if row[\"Time\"] < split_date[\"Time\"]:\n",
    "                    train_set = pd.concat([train_set, pd.DataFrame([row])], ignore_index=True)\n",
    "                else:\n",
    "                    test_set = pd.concat([test_set, pd.DataFrame([row])], ignore_index=True)\n",
    "            else:\n",
    "               test_set = pd.concat([test_set, pd.DataFrame([row])], ignore_index=True)\n",
    "        else:\n",
    "           test_set = pd.concat([test_set, pd.DataFrame([row])], ignore_index=True)\n",
    "            "
   ]
  },
  {
   "cell_type": "code",
   "execution_count": 13,
   "metadata": {},
   "outputs": [
    {
     "name": "stdout",
     "output_type": "stream",
     "text": [
      "        LineId Month Day      Time    Type      Job        Access  \\\n",
      "0            1     2  29  00:00:12  mail-0  dovecot    imap-login   \n",
      "1            2     2  29  00:00:12  mail-0  dovecot   imap(karri)   \n",
      "2            3     2  29  00:00:14  mail-0  dovecot    imap-login   \n",
      "3            4     2  29  00:00:14  mail-0  dovecot   imap(karri)   \n",
      "4            5     2  29  00:00:14  mail-0  dovecot   imap(karri)   \n",
      "...        ...   ...  ..       ...     ...      ...           ...   \n",
      "115438  115439     3   5  15:31:32    mail  dovecot  imap(bertie)   \n",
      "115439  115440     3   5  15:31:32    mail  dovecot  imap(bertie)   \n",
      "115440  115441     3   5  15:31:39    mail  dovecot    imap-login   \n",
      "115441  115442     3   5  15:31:39    mail  dovecot   imap(karri)   \n",
      "115442  115443     3   5  15:31:39    mail  dovecot   imap(karri)   \n",
      "\n",
      "                                                  Content EventId  \\\n",
      "0       Login: user=<karri>, method=PLAIN, rip=127.0.0...      E1   \n",
      "1                                Logged out in=26 out=471      E2   \n",
      "2       Login: user=<karri>, method=PLAIN, rip=127.0.0...      E1   \n",
      "3       Error: file_dotlock_create(/var/mail/karri) fa...      E3   \n",
      "4                              Logged out in=177 out=1115      E2   \n",
      "...                                                   ...     ...   \n",
      "115438  Error: file_dotlock_create(/var/mail/bertie) f...      E3   \n",
      "115439                         Logged out in=158 out=1534      E2   \n",
      "115440  Login: user=<karri>, method=PLAIN, rip=127.0.0...      E1   \n",
      "115441  Error: file_dotlock_create(/var/mail/karri) fa...      E3   \n",
      "115442                           Logged out in=79 out=884      E2   \n",
      "\n",
      "                                            EventTemplate  \\\n",
      "0       Login: <*> method=PLAIN, rip=<*>, lip=<*>, mpi...   \n",
      "1                               Logged out in=<*> out=<*>   \n",
      "2       Login: <*> method=PLAIN, rip=<*>, lip=<*>, mpi...   \n",
      "3       Error: <*> failed: Permission denied <*> <*> m...   \n",
      "4                               Logged out in=<*> out=<*>   \n",
      "...                                                   ...   \n",
      "115438  Error: <*> failed: Permission denied <*> <*> m...   \n",
      "115439                          Logged out in=<*> out=<*>   \n",
      "115440  Login: <*> method=PLAIN, rip=<*>, lip=<*>, mpi...   \n",
      "115441  Error: <*> failed: Permission denied <*> <*> m...   \n",
      "115442                          Logged out in=<*> out=<*>   \n",
      "\n",
      "                                       EventTemplateIdent  \\\n",
      "0       Login: <similar_prev_pattern> method=PLAIN, ri...   \n",
      "1                   Logged out in=<Numbers> out=<Numbers>   \n",
      "2       Login: <similar_prev_pattern> method=PLAIN, ri...   \n",
      "3       Error: <similar_prev_pattern> failed: Permissi...   \n",
      "4                   Logged out in=<Numbers> out=<Numbers>   \n",
      "...                                                   ...   \n",
      "115438  Error: <similar_prev_pattern> failed: Permissi...   \n",
      "115439              Logged out in=<Numbers> out=<Numbers>   \n",
      "115440  Login: <similar_prev_pattern> method=PLAIN, ri...   \n",
      "115441  Error: <similar_prev_pattern> failed: Permissi...   \n",
      "115442              Logged out in=<Numbers> out=<Numbers>   \n",
      "\n",
      "                                            ParameterList time_label  \\\n",
      "0       ['user=<karri>,', '127.0.0.1', '127.0.0.1', '3...          0   \n",
      "1                                           ['26', '471']          0   \n",
      "2       ['user=<karri>,', '127.0.0.1', '127.0.0.1', '3...          0   \n",
      "3       ['file_dotlock_create(/var/mail/karri)', '(eui...          0   \n",
      "4                                         ['177', '1115']          0   \n",
      "...                                                   ...        ...   \n",
      "115438  ['file_dotlock_create(/var/mail/bertie)', '(eu...          0   \n",
      "115439                                    ['158', '1534']          0   \n",
      "115440  ['user=<karri>,', '127.0.0.1', '127.0.0.1', '3...          0   \n",
      "115441  ['file_dotlock_create(/var/mail/karri)', '(eui...          0   \n",
      "115442                                      ['79', '884']          0   \n",
      "\n",
      "       line_label  \n",
      "0               0  \n",
      "1               0  \n",
      "2               0  \n",
      "3               0  \n",
      "4               0  \n",
      "...           ...  \n",
      "115438          0  \n",
      "115439          0  \n",
      "115440          0  \n",
      "115441          0  \n",
      "115442          0  \n",
      "\n",
      "[115443 rows x 14 columns]\n",
      "      LineId Month Day      Time  Type      Job       Access  \\\n",
      "0     115444     3   5  15:31:48  mail  dovecot   imap-login   \n",
      "1     115445     3   5  15:31:48  mail  dovecot  imap(trula)   \n",
      "2     115446     3   5  15:31:48  mail  dovecot  imap(trula)   \n",
      "3     115447     3   5  15:31:57  mail  dovecot   imap-login   \n",
      "4     115448     3   5  15:31:57  mail  dovecot  imap(della)   \n",
      "...      ...   ...  ..       ...   ...      ...          ...   \n",
      "7365  122809     3   6  04:58:19  mail  dovecot   imap(page)   \n",
      "7366  122810     3   6  04:58:19  mail  dovecot   imap(page)   \n",
      "7367  122811     3   6  04:59:43  mail  dovecot   imap-login   \n",
      "7368  122812     3   6  04:59:43  mail  dovecot   imap(page)   \n",
      "7369  122813     3   6  04:59:43  mail  dovecot   imap(page)   \n",
      "\n",
      "                                                Content EventId  \\\n",
      "0     Login: user=<trula>, method=PLAIN, rip=127.0.0...      E1   \n",
      "1     Error: file_dotlock_create(/var/mail/trula) fa...      E3   \n",
      "2                              Logged out in=79 out=879      E2   \n",
      "3     Login: user=<della>, method=PLAIN, rip=127.0.0...      E1   \n",
      "4     Error: file_dotlock_create(/var/mail/della) fa...      E3   \n",
      "...                                                 ...     ...   \n",
      "7365  Error: file_dotlock_create(/var/mail/page) fai...      E3   \n",
      "7366                           Logged out in=79 out=882      E2   \n",
      "7367  Login: user=<page>, method=PLAIN, rip=127.0.0....      E1   \n",
      "7368  Error: file_dotlock_create(/var/mail/page) fai...      E3   \n",
      "7369                           Logged out in=79 out=882      E2   \n",
      "\n",
      "                                          EventTemplate  \\\n",
      "0     Login: <*> method=PLAIN, rip=<*>, lip=<*>, mpi...   \n",
      "1     Error: <*> failed: Permission denied <*> <*> m...   \n",
      "2                             Logged out in=<*> out=<*>   \n",
      "3     Login: <*> method=PLAIN, rip=<*>, lip=<*>, mpi...   \n",
      "4     Error: <*> failed: Permission denied <*> <*> m...   \n",
      "...                                                 ...   \n",
      "7365  Error: <*> failed: Permission denied <*> <*> m...   \n",
      "7366                          Logged out in=<*> out=<*>   \n",
      "7367  Login: <*> method=PLAIN, rip=<*>, lip=<*>, mpi...   \n",
      "7368  Error: <*> failed: Permission denied <*> <*> m...   \n",
      "7369                          Logged out in=<*> out=<*>   \n",
      "\n",
      "                                     EventTemplateIdent  \\\n",
      "0     Login: <similar_prev_pattern> method=PLAIN, ri...   \n",
      "1     Error: <similar_prev_pattern> failed: Permissi...   \n",
      "2                 Logged out in=<Numbers> out=<Numbers>   \n",
      "3     Login: <similar_prev_pattern> method=PLAIN, ri...   \n",
      "4     Error: <similar_prev_pattern> failed: Permissi...   \n",
      "...                                                 ...   \n",
      "7365  Error: <similar_prev_pattern> failed: Permissi...   \n",
      "7366              Logged out in=<Numbers> out=<Numbers>   \n",
      "7367  Login: <similar_prev_pattern> method=PLAIN, ri...   \n",
      "7368  Error: <similar_prev_pattern> failed: Permissi...   \n",
      "7369              Logged out in=<Numbers> out=<Numbers>   \n",
      "\n",
      "                                          ParameterList time_label line_label  \n",
      "0     ['user=<trula>,', '127.0.0.1', '127.0.0.1', '3...      nikto      nikto  \n",
      "1     ['file_dotlock_create(/var/mail/trula)', '(eui...      nikto      nikto  \n",
      "2                                         ['79', '879']      nikto      nikto  \n",
      "3     ['user=<della>,', '127.0.0.1', '127.0.0.1', '3...      nikto      nikto  \n",
      "4     ['file_dotlock_create(/var/mail/della)', '(eui...      nikto      nikto  \n",
      "...                                                 ...        ...        ...  \n",
      "7365  ['file_dotlock_create(/var/mail/page)', '(euid...          0          0  \n",
      "7366                                      ['79', '882']          0          0  \n",
      "7367  ['user=<page>,', '127.0.0.1', '127.0.0.1', '10...          0          0  \n",
      "7368  ['file_dotlock_create(/var/mail/page)', '(euid...          0          0  \n",
      "7369                                      ['79', '882']          0          0  \n",
      "\n",
      "[7370 rows x 14 columns]\n"
     ]
    }
   ],
   "source": [
    "print(train_set)\n",
    "print(test_set)"
   ]
  },
  {
   "cell_type": "code",
   "execution_count": 14,
   "metadata": {},
   "outputs": [],
   "source": [
    "eventId_train = train_set.EventId.unique()\n",
    "eventId_test = test_set.EventId.unique()"
   ]
  },
  {
   "cell_type": "code",
   "execution_count": 15,
   "metadata": {},
   "outputs": [],
   "source": [
    "template_log_train = template_log[template_log[\"EventId\"].isin(eventId_train)]\n",
    "template_log_test = template_log[template_log[\"EventId\"].isin(eventId_test)]\n",
    "template_log_train[\"EventTemplateIdent_cleansed\"] = template_log_train.EventTemplateIdent.map(text_cleansing)"
   ]
  },
  {
   "cell_type": "code",
   "execution_count": 16,
   "metadata": {},
   "outputs": [],
   "source": [
    "template_log_train_list = template_log_train[\"EventTemplateIdent_cleansed\"].astype('str').tolist()"
   ]
  },
  {
   "cell_type": "code",
   "execution_count": 17,
   "metadata": {},
   "outputs": [],
   "source": [
    "tokenizer = RegexpTokenizer(r'[A-Z][a-z]+|\\w+')\n",
    "token_train_list = [tokenizer.tokenize(sen) for sen in template_log_train_list]\n",
    "\n",
    "template_log_train[\"EventTemplateIdent_token\"] = pd.Series(token_train_list)\n",
    "train_set[\"Token\"] = train_set.EventId.map(\n",
    "    lambda id: template_log_train[template_log_train.EventId == id].\n",
    "    EventTemplateIdent_token.values[0]\n",
    ")"
   ]
  },
  {
   "cell_type": "code",
   "execution_count": 19,
   "metadata": {},
   "outputs": [
    {
     "name": "stdout",
     "output_type": "stream",
     "text": [
      "start train word2Vec model. . . . .\n",
      "finish train word2Vec model . . . . . ^^\n"
     ]
    }
   ],
   "source": [
    "# [mail.cup.com, mail.insect.com, mail.onion.com, mail.spiral.com] => choose one of this to AIT_daemon_<Target>_word2Vec\n",
    "trainWord2VecModelType2(token_train_list, \"AIT_mail_mail.cup.com_word2Vec\")"
   ]
  },
  {
   "cell_type": "code",
   "execution_count": 20,
   "metadata": {},
   "outputs": [],
   "source": [
    "with open(os.path.join(data_dir, \"train_set.pkl\"), \"wb\") as fw:\n",
    "    pickle.dump(train_set, fw)\n",
    "with open(os.path.join(data_dir, \"test_set.pkl\"), \"wb\") as fw:\n",
    "    pickle.dump(test_set, fw)\n",
    "with open(os.path.join(data_dir, \"template_train_set.pkl\"), \"wb\") as fw:\n",
    "    pickle.dump(template_log_train, fw)\n",
    "with open(os.path.join(data_dir, \"template_test_set.pkl\"), \"wb\") as fw:\n",
    "    pickle.dump(template_log_test, fw)"
   ]
  }
 ],
 "metadata": {
  "kernelspec": {
   "display_name": "torch-gpu",
   "language": "python",
   "name": "python3"
  },
  "language_info": {
   "codemirror_mode": {
    "name": "ipython",
    "version": 3
   },
   "file_extension": ".py",
   "mimetype": "text/x-python",
   "name": "python",
   "nbconvert_exporter": "python",
   "pygments_lexer": "ipython3",
   "version": "3.8.15"
  },
  "orig_nbformat": 4,
  "vscode": {
   "interpreter": {
    "hash": "ce4081ce2b9ab9ecfe855a4e9c840ae25394b5d73782b2027cad0c1ddfa0aa02"
   }
  }
 },
 "nbformat": 4,
 "nbformat_minor": 2
}
