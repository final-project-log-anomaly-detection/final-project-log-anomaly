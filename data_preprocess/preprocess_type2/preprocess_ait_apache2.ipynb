{
 "cells": [
  {
   "cell_type": "code",
   "execution_count": null,
   "metadata": {},
   "outputs": [],
   "source": [
    "import pandas as pd\n",
    "import numpy as np\n",
    "\n",
    "from gensim.models import Word2Vec, KeyedVectors\n",
    "from nltk.tokenize import RegexpTokenizer\n",
    "from tqdm import tqdm\n",
    "\n",
    "import os\n",
    "import sys\n",
    "\n",
    "sys.path.append(\"../../data_preprocess/\")\n",
    "\n",
    "import pickle\n",
    "import re\n",
    "from utils import json_pretty_dump, word2VecContinueLearning, trainWord2VecModelType2, tokenizeData, convertWord2Vec, text_cleansing, parse_datetime\n",
    "seed = 42\n",
    "np.random.seed(seed)\n",
    "\n",
    "data_dir = \"../processed_type2/AIT_preprocessed_type2\"\n",
    "\n",
    "label_dir = [\n",
    "    \"mail.cup.com\",\n",
    "    \"mail.insect.com\",\n",
    "    \"mail.onion.com\",\n",
    "    \"mail.spiral.com\",\n",
    "]\n",
    "\n",
    "params = {\n",
    "    \"struct_file\": \"../../Drain_result/apache2_mail.cup.com/mail.cup.com-access.log_structured.csv\",\n",
    "    \"template_file\": \"../../Drain_result/apache2_mail.cup.com/mail.cup.com-access.log_templates.csv\",\n",
    "    \"label_file\": f\"../../AIT-LDS-v1_1/labels/{label_dir[0]}/apache2/mail.cup.com-access.log\",\n",
    "}\n",
    "\n",
    "os.makedirs(data_dir, exist_ok=True)\n"
   ]
  },
  {
   "cell_type": "code",
   "execution_count": null,
   "metadata": {},
   "outputs": [],
   "source": [
    "struct_log = pd.read_csv(params['struct_file'])\n",
    "template_log = pd.read_csv(params['template_file'])\n",
    "labels = pd.read_csv(params['label_file'])\n",
    "struct_log['time_label'] = labels['time_label']\n",
    "struct_log['line_label'] = labels['line_label']"
   ]
  },
  {
   "cell_type": "code",
   "execution_count": null,
   "metadata": {},
   "outputs": [],
   "source": [
    "for index, row in struct_log.iterrows():\n",
    "        struct_log.loc[index, \"DateTime\"] = parse_datetime(row)"
   ]
  },
  {
   "cell_type": "code",
   "execution_count": null,
   "metadata": {},
   "outputs": [],
   "source": [
    "struct_log.sort_values(\"DateTime\", inplace=True)"
   ]
  },
  {
   "cell_type": "code",
   "execution_count": null,
   "metadata": {},
   "outputs": [],
   "source": [
    "split_date = pd.to_datetime(struct_log[(struct_log['line_label'] != \"0\") & (\n",
    "        struct_log['time_label'] != \"0\")].DateTime).dt.date.value_counts().sort_index()\n",
    "split_date.index[0]"
   ]
  },
  {
   "cell_type": "code",
   "execution_count": null,
   "metadata": {},
   "outputs": [],
   "source": [
    "train_set = struct_log[struct_log.DateTime < split_date.index[0]]\n",
    "test_set = struct_log[struct_log.DateTime >= split_date.index[0]]"
   ]
  },
  {
   "cell_type": "code",
   "execution_count": null,
   "metadata": {},
   "outputs": [],
   "source": [
    "eventId_train = train_set.EventId.unique()\n",
    "eventId_test = test_set.EventId.unique()"
   ]
  },
  {
   "cell_type": "code",
   "execution_count": null,
   "metadata": {},
   "outputs": [],
   "source": [
    "template_log_train = template_log[template_log[\"EventId\"].isin(eventId_train)].reset_index()\n",
    "template_log_test = template_log[template_log[\"EventId\"].isin(eventId_test)].reset_index()\n",
    "template_log_train[\"EventTemplateIdent_cleansed\"] = template_log_train.EventTemplateIdent.map(text_cleansing)\n",
    "template_log_test[\"EventTemplateIdent_cleansed\"] = template_log_test.EventTemplateIdent.map(text_cleansing)"
   ]
  },
  {
   "cell_type": "code",
   "execution_count": null,
   "metadata": {},
   "outputs": [],
   "source": [
    "template_log_train_list = template_log_train[\"EventTemplateIdent_cleansed\"].astype('str').tolist()\n",
    "template_log_test_list = template_log_test[\"EventTemplateIdent_cleansed\"].astype('str').tolist()"
   ]
  },
  {
   "cell_type": "code",
   "execution_count": null,
   "metadata": {},
   "outputs": [],
   "source": [
    "tokenizer = RegexpTokenizer(r'[A-Z][a-z]+|\\w+')\n",
    "token_train_list = [tokenizer.tokenize(sen) for sen in template_log_train_list]\n",
    "token_test_list = [tokenizer.tokenize(sen) for sen in template_log_test_list]\n",
    "\n",
    "template_log_train[\"EventTemplateIdent_token\"] = pd.Series(token_train_list)\n",
    "template_log_test[\"EventTemplateIdent_token\"] = pd.Series(token_test_list)\n",
    "map_token_train = { row[0]: row[1] \\\n",
    "    for row in tqdm(\n",
    "        template_log_train[[\"EventId\", \"EventTemplateIdent_token\"]].values,\n",
    "        desc=\"Mapping ID & token\"\n",
    "        ) }\n",
    "train_set[\"Token\"] = train_set.EventId.map(lambda id: map_token_train[id])\n",
    "map_token_test = { row[0]: row[1] \\\n",
    "    for row in tqdm(\n",
    "        template_log_test[[\"EventId\", \"EventTemplateIdent_token\"]].values,\n",
    "        desc=\"Mapping ID & token\"\n",
    "        ) }\n",
    "test_set[\"Token\"] = test_set.EventId.map(lambda id: map_token_test[id])"
   ]
  },
  {
   "cell_type": "code",
   "execution_count": null,
   "metadata": {},
   "outputs": [],
   "source": [
    "trainWord2VecModelType2(token_train_list, \"AIT_apache2_word2Vec\")"
   ]
  },
  {
   "cell_type": "code",
   "execution_count": null,
   "metadata": {},
   "outputs": [],
   "source": [
    "with open(os.path.join(data_dir, \"train_set.pkl\"), \"wb\") as fw:\n",
    "    pickle.dump(train_set, fw)\n",
    "with open(os.path.join(data_dir, \"test_set.pkl\"), \"wb\") as fw:\n",
    "    pickle.dump(test_set, fw)\n",
    "with open(os.path.join(data_dir, \"template_train_set.pkl\"), \"wb\") as fw:\n",
    "    pickle.dump(template_log_train, fw)\n",
    "with open(os.path.join(data_dir, \"template_test_set.pkl\"), \"wb\") as fw:\n",
    "    pickle.dump(template_log_test, fw)"
   ]
  }
 ],
 "metadata": {
  "kernelspec": {
   "display_name": "torch-gpu",
   "language": "python",
   "name": "python3"
  },
  "language_info": {
   "codemirror_mode": {
    "name": "ipython",
    "version": 3
   },
   "file_extension": ".py",
   "mimetype": "text/x-python",
   "name": "python",
   "nbconvert_exporter": "python",
   "pygments_lexer": "ipython3",
   "version": "3.8.15 (default, Nov 24 2022, 08:57:44) \n[Clang 14.0.6 ]"
  },
  "orig_nbformat": 4,
  "vscode": {
   "interpreter": {
    "hash": "8a5edab282632443219e051e4ade2d1d5bbc671c781051bf1437897cbdfea0f1"
   }
  }
 },
 "nbformat": 4,
 "nbformat_minor": 2
}
