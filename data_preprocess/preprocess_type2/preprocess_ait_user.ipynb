{
 "cells": [
  {
   "cell_type": "code",
   "execution_count": null,
   "metadata": {},
   "outputs": [],
   "source": [
    "import pandas as pd\n",
    "import numpy as np\n",
    "\n",
    "from gensim.models import Word2Vec, KeyedVectors\n",
    "from nltk.tokenize import RegexpTokenizer\n",
    "from tqdm import tqdm\n",
    "\n",
    "import os\n",
    "import sys\n",
    "\n",
    "sys.path.append(\"../../data_preprocess/\")\n",
    "\n",
    "import pickle\n",
    "import re\n",
    "from utils import json_pretty_dump, word2VecContinueLearning, trainWord2VecModelType2, tokenizeData, convertWord2Vec, text_cleansing, parse_datetime, parse_month\n",
    "seed = 42\n",
    "np.random.seed(seed)\n",
    "\n",
    "# [mail.cup.com, mail.insect.com, mail.onion.com, mail.spiral.com] => choose one of this to ../processed_type2/AIT_preprocessed_type2/user/<Target>\n",
    "data_dir = \"../processed_type2/AIT_preprocessed_type2/user/mail.cup.com\"\n",
    "\n",
    "label_dir = [\n",
    "    \"mail.cup.com\",\n",
    "    \"mail.insect.com\",\n",
    "    \"mail.onion.com\",\n",
    "    \"mail.spiral.com\",\n",
    "]\n",
    "\n",
    "# [mail.cup.com, mail.insect.com, mail.onion.com, mail.spiral.com] => choose one of this to ../../Drain_result/AIT_user_<target>/user.log_structured.csv\n",
    "# [mail.cup.com, mail.insect.com, mail.onion.com, mail.spiral.com] => choose one of this to ../../Drain_result/AIT_user_<target>/user.log_templates.csv\n",
    "params = {\n",
    "    \"struct_file\": \"../../Drain_result/AIT_user_mail.cup.com/user.log_structured.csv\",\n",
    "    \"template_file\": \"../../Drain_result/AIT_user_mail.cup.com/user.log_templates.csv\",\n",
    "    \"label_file\": f\"../../AIT-LDS-v1_1/labels/{label_dir[0]}/apache2/user.cup.com-access.log\",\n",
    "}\n",
    "\n",
    "os.makedirs(data_dir, exist_ok=True)"
   ]
  },
  {
   "cell_type": "code",
   "execution_count": null,
   "metadata": {},
   "outputs": [],
   "source": [
    "struct_log = pd.read_csv(params['struct_file'])\n",
    "template_log = pd.read_csv(params['template_file'])\n",
    "labels = pd.read_csv(params['label_file'])\n",
    "struct_log['time_label'] = labels['time_label']\n",
    "struct_log['line_label'] = labels['line_label']"
   ]
  },
  {
   "cell_type": "code",
   "execution_count": null,
   "metadata": {},
   "outputs": [],
   "source": [
    "for index, row in struct_log.iterrows():\n",
    "        struct_log.loc[index, \"Month\"] = parse_month(row[\"Month\"])"
   ]
  },
  {
   "cell_type": "code",
   "execution_count": null,
   "metadata": {},
   "outputs": [],
   "source": [
    "struct_log.sort_values([\"Month\", \"Day\", \"Time\"], inplace=True)"
   ]
  },
  {
   "cell_type": "code",
   "execution_count": null,
   "metadata": {},
   "outputs": [],
   "source": [
    "split_date = struct_log[(struct_log['line_label'] != \"0\") & (struct_log['time_label'] != \"0\")]\n",
    "split_date = split_date.iloc[0]"
   ]
  },
  {
   "cell_type": "code",
   "execution_count": null,
   "metadata": {},
   "outputs": [],
   "source": [
    "train_set = pd.DataFrame(columns=[\"LineId\", \"Month\", \"Day\", \"Time\", \"Type\", \"Job\", \"Content\", \"EventId\", \"EventTemplate\", \"EventTemplateIdent\", \"ParameterList\", \"time_label\", \"line_label\"])\n",
    "test_set = pd.DataFrame(columns=[\"LineId\", \"Month\", \"Day\", \"Time\", \"Type\", \"Job\", \"Content\", \"EventId\", \"EventTemplate\", \"EventTemplateIdent\", \"ParameterList\", \"time_label\", \"line_label\"])\n",
    "\n",
    "if len(split_date) > 0:\n",
    "    for index , row in struct_log.iterrows():\n",
    "        if (row.Month < split_date.Month):\n",
    "            train_set = pd.concat([train_set, pd.DataFrame([row])], ignore_index=True)\n",
    "        elif (row[\"Month\"] == split_date[\"Month\"]):\n",
    "            if (row[\"Day\"] < split_date[\"Day\"]):\n",
    "                train_set = pd.concat([train_set, pd.DataFrame([row])], ignore_index=True)\n",
    "            elif (row[\"Day\"] == split_date[\"Day\"]):\n",
    "                if row[\"Time\"] < split_date[\"Time\"]:\n",
    "                    train_set = pd.concat([train_set, pd.DataFrame([row])], ignore_index=True)\n",
    "                else:\n",
    "                    test_set = pd.concat([test_set, pd.DataFrame([row])], ignore_index=True)\n",
    "            else:\n",
    "               test_set = pd.concat([test_set, pd.DataFrame([row])], ignore_index=True)\n",
    "        else:\n",
    "           test_set = pd.concat([test_set, pd.DataFrame([row])], ignore_index=True)"
   ]
  },
  {
   "cell_type": "code",
   "execution_count": null,
   "metadata": {},
   "outputs": [],
   "source": [
    "eventId_train = train_set.EventId.unique()\n",
    "eventId_test = test_set.EventId.unique()"
   ]
  },
  {
   "cell_type": "code",
   "execution_count": null,
   "metadata": {},
   "outputs": [],
   "source": [
    "template_log_train = template_log[template_log[\"EventId\"].isin(eventId_train)].reset_index()\n",
    "template_log_test = template_log[template_log[\"EventId\"].isin(eventId_test)].reset_index()\n",
    "template_log_train[\"EventTemplateIdent_cleansed\"] = template_log_train.EventTemplateIdent.map(text_cleansing)\n",
    "template_log_test[\"EventTemplateIdent_cleansed\"] = template_log_test.EventTemplateIdent.map(text_cleansing)"
   ]
  },
  {
   "cell_type": "code",
   "execution_count": null,
   "metadata": {},
   "outputs": [],
   "source": [
    "template_log_train_list = template_log_train[\"EventTemplateIdent_cleansed\"].astype('str').tolist()\n",
    "template_log_test_list = template_log_test[\"EventTemplateIdent_cleansed\"].astype('str').tolist()"
   ]
  },
  {
   "cell_type": "code",
   "execution_count": null,
   "metadata": {},
   "outputs": [],
   "source": [
    "tokenizer = RegexpTokenizer(r'[A-Z][a-z]+|\\w+')\n",
    "token_train_list = [tokenizer.tokenize(sen) for sen in template_log_train_list]\n",
    "token_test_list = [tokenizer.tokenize(sen) for sen in template_log_test_list]\n",
    "\n",
    "template_log_train[\"EventTemplateIdent_token\"] = pd.Series(token_train_list)\n",
    "template_log_test[\"EventTemplateIdent_token\"] = pd.Series(token_test_list)\n",
    "map_token_train = { row[0]: row[1] \\\n",
    "    for row in tqdm(\n",
    "        template_log_train[[\"EventId\", \"EventTemplateIdent_token\"]].values,\n",
    "        desc=\"Mapping ID & token\"\n",
    "        ) }\n",
    "train_set[\"Token\"] = train_set.EventId.map(lambda id: map_token_train[id])\n",
    "map_token_test = { row[0]: row[1] \\\n",
    "    for row in tqdm(\n",
    "        template_log_test[[\"EventId\", \"EventTemplateIdent_token\"]].values,\n",
    "        desc=\"Mapping ID & token\"\n",
    "        ) }\n",
    "test_set[\"Token\"] = test_set.EventId.map(lambda id: map_token_test[id])"
   ]
  },
  {
   "cell_type": "code",
   "execution_count": null,
   "metadata": {},
   "outputs": [],
   "source": [
    "# [mail.cup.com, mail.insect.com, mail.onion.com, mail.spiral.com] => choose one of this to AIT_daemon_<Target>_word2Vec\n",
    "trainWord2VecModelType2(token_train_list, \"AIT_user_mail.cup.com_word2Vec\")"
   ]
  },
  {
   "cell_type": "code",
   "execution_count": null,
   "metadata": {},
   "outputs": [],
   "source": [
    "with open(os.path.join(data_dir, \"train_set.pkl\"), \"wb\") as fw:\n",
    "    pickle.dump(train_set, fw)\n",
    "with open(os.path.join(data_dir, \"test_set.pkl\"), \"wb\") as fw:\n",
    "    pickle.dump(test_set, fw)\n",
    "with open(os.path.join(data_dir, \"template_train_set.pkl\"), \"wb\") as fw:\n",
    "    pickle.dump(template_log_train, fw)\n",
    "with open(os.path.join(data_dir, \"template_test_set.pkl\"), \"wb\") as fw:\n",
    "    pickle.dump(template_log_test, fw)"
   ]
  }
 ],
 "metadata": {
  "kernelspec": {
   "display_name": "Python 3",
   "language": "python",
   "name": "python3"
  },
  "language_info": {
   "name": "python",
   "version": "3.6.8 (v3.6.8:3c6b436a57, Dec 24 2018, 02:04:31) \n[GCC 4.2.1 Compatible Apple LLVM 6.0 (clang-600.0.57)]"
  },
  "orig_nbformat": 4,
  "vscode": {
   "interpreter": {
    "hash": "aee8b7b246df8f9039afb4144a1f6fd8d2ca17a180786b69acc140d282b71a49"
   }
  }
 },
 "nbformat": 4,
 "nbformat_minor": 2
}
