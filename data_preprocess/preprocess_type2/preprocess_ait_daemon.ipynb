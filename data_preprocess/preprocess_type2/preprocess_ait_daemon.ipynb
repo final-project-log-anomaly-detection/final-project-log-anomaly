{
 "cells": [
  {
   "cell_type": "code",
   "execution_count": 5,
   "metadata": {},
   "outputs": [],
   "source": [
    "import pandas as pd\n",
    "import numpy as np\n",
    "\n",
    "from gensim.models import Word2Vec, KeyedVectors\n",
    "from nltk.tokenize import RegexpTokenizer\n",
    "from tqdm import tqdm\n",
    "\n",
    "import os\n",
    "import sys\n",
    "\n",
    "sys.path.append(\"../../data_preprocess/\")\n",
    "\n",
    "import pickle\n",
    "import re\n",
    "from utils import json_pretty_dump, word2VecContinueLearning, trainWord2VecModelType2, tokenizeData, convertWord2Vec, text_cleansing, parse_datetime, parse_month\n",
    "seed = 42\n",
    "np.random.seed(seed)\n",
    "\n",
    "# [mail.cup.com, mail.insect.com, mail.onion.com, mail.spiral.com] => choose one of this to ../processed_type2/AIT_preprocessed_type2/daemon/<Target>\n",
    "data_dir = \"../processed_type2/AIT_preprocessed_type2/daemon/mail.cup.com\"\n",
    "\n",
    "label_dir = [\n",
    "    \"mail.cup.com\",\n",
    "    \"mail.insect.com\",\n",
    "    \"mail.onion.com\",\n",
    "    \"mail.spiral.com\",\n",
    "]\n",
    "\n",
    "# [mail.cup.com, mail.insect.com, mail.onion.com, mail.spiral.com] => choose one of this to ../../Drain_result/AIT_daemon_<target>/daemon.log_structured.csv\n",
    "# [mail.cup.com, mail.insect.com, mail.onion.com, mail.spiral.com] => choose one of this to ../../Drain_result/AIT_daemon_<target>/daemon.log_templates.csv\n",
    "params = {\n",
    "    \"struct_file\": \"../../Drain_result/AIT_daemon_mail.cup.com/daemon.log_structured.csv\",\n",
    "    \"template_file\": \"../../Drain_result/AIT_daemon_mail.cup.com/daemon.log_templates.csv\",\n",
    "    \"label_file\": f\"../../AIT-LDS-v1_1/labels/{label_dir[0]}/apache2/mail.cup.com-access.log\",\n",
    "}\n",
    "\n",
    "os.makedirs(data_dir, exist_ok=True)"
   ]
  },
  {
   "cell_type": "code",
   "execution_count": 6,
   "metadata": {},
   "outputs": [],
   "source": [
    "struct_log = pd.read_csv(params['struct_file'])\n",
    "template_log = pd.read_csv(params['template_file'])\n",
    "labels = pd.read_csv(params['label_file'])\n",
    "struct_log['time_label'] = labels['time_label']\n",
    "struct_log['line_label'] = labels['line_label']"
   ]
  },
  {
   "cell_type": "code",
   "execution_count": 7,
   "metadata": {},
   "outputs": [],
   "source": [
    "for index, row in struct_log.iterrows():\n",
    "        struct_log.loc[index, \"Month\"] = parse_month(row[\"Month\"])"
   ]
  },
  {
   "cell_type": "code",
   "execution_count": 8,
   "metadata": {},
   "outputs": [],
   "source": [
    "struct_log.sort_values([\"Month\", \"Day\", \"Time\"], inplace=True)"
   ]
  },
  {
   "cell_type": "code",
   "execution_count": 9,
   "metadata": {},
   "outputs": [
    {
     "data": {
      "text/html": [
       "<div>\n",
       "<style scoped>\n",
       "    .dataframe tbody tr th:only-of-type {\n",
       "        vertical-align: middle;\n",
       "    }\n",
       "\n",
       "    .dataframe tbody tr th {\n",
       "        vertical-align: top;\n",
       "    }\n",
       "\n",
       "    .dataframe thead th {\n",
       "        text-align: right;\n",
       "    }\n",
       "</style>\n",
       "<table border=\"1\" class=\"dataframe\">\n",
       "  <thead>\n",
       "    <tr style=\"text-align: right;\">\n",
       "      <th></th>\n",
       "      <th>LineId</th>\n",
       "      <th>Month</th>\n",
       "      <th>Day</th>\n",
       "      <th>Time</th>\n",
       "      <th>Type</th>\n",
       "      <th>Job</th>\n",
       "      <th>Content</th>\n",
       "      <th>EventId</th>\n",
       "      <th>EventTemplate</th>\n",
       "      <th>EventTemplateIdent</th>\n",
       "      <th>ParameterList</th>\n",
       "      <th>time_label</th>\n",
       "      <th>line_label</th>\n",
       "    </tr>\n",
       "  </thead>\n",
       "  <tbody>\n",
       "  </tbody>\n",
       "</table>\n",
       "</div>"
      ],
      "text/plain": [
       "Empty DataFrame\n",
       "Columns: [LineId, Month, Day, Time, Type, Job, Content, EventId, EventTemplate, EventTemplateIdent, ParameterList, time_label, line_label]\n",
       "Index: []"
      ]
     },
     "execution_count": 9,
     "metadata": {},
     "output_type": "execute_result"
    }
   ],
   "source": [
    "split_date = struct_log[(struct_log['line_label'] != \"0\") & (struct_log['time_label'] != \"0\")]\n",
    "split_date = split_date.iloc[0]"
   ]
  },
  {
   "cell_type": "code",
   "execution_count": 10,
   "metadata": {},
   "outputs": [],
   "source": [
    "train_set = pd.DataFrame(columns=[\"LineId\", \"Month\", \"Day\", \"Time\", \"Type\", \"Job\", \"Content\", \"EventId\", \"EventTemplate\", \"EventTemplateIdent\", \"ParameterList\", \"time_label\", \"line_label\"])\n",
    "test_set = pd.DataFrame(columns=[\"LineId\", \"Month\", \"Day\", \"Time\", \"Type\", \"Job\", \"Content\", \"EventId\", \"EventTemplate\", \"EventTemplateIdent\", \"ParameterList\", \"time_label\", \"line_label\"])\n",
    "\n",
    "if len(split_date) > 0:\n",
    "    for index , row in struct_log.iterrows():\n",
    "        if (row.Month < split_date.Month):\n",
    "            train_set = pd.concat([train_set, pd.DataFrame([row])], ignore_index=True)\n",
    "        elif (row[\"Month\"] == split_date[\"Month\"]):\n",
    "            if (row[\"Day\"] < split_date[\"Day\"]):\n",
    "                train_set = pd.concat([train_set, pd.DataFrame([row])], ignore_index=True)\n",
    "            elif (row[\"Day\"] == split_date[\"Day\"]):\n",
    "                if row[\"Time\"] < split_date[\"Time\"]:\n",
    "                    train_set = pd.concat([train_set, pd.DataFrame([row])], ignore_index=True)\n",
    "                else:\n",
    "                    test_set = pd.concat([test_set, pd.DataFrame([row])], ignore_index=True)\n",
    "            else:\n",
    "               test_set = pd.concat([test_set, pd.DataFrame([row])], ignore_index=True)\n",
    "        else:\n",
    "           test_set = pd.concat([test_set, pd.DataFrame([row])], ignore_index=True)"
   ]
  },
  {
   "cell_type": "code",
   "execution_count": 12,
   "metadata": {},
   "outputs": [],
   "source": [
    "eventId_train = train_set.EventId.unique()\n",
    "eventId_test = test_set.EventId.unique()"
   ]
  },
  {
   "cell_type": "code",
   "execution_count": 13,
   "metadata": {},
   "outputs": [],
   "source": [
    "template_log_train = template_log[template_log[\"EventId\"].isin(eventId_train)].reset_index()\n",
    "template_log_test = template_log[template_log[\"EventId\"].isin(eventId_test)].reset_index()\n",
    "template_log_train[\"EventTemplateIdent_cleansed\"] = template_log_train.EventTemplateIdent.map(text_cleansing)\n",
    "template_log_test[\"EventTemplateIdent_cleansed\"] = template_log_test.EventTemplateIdent.map(text_cleansing)"
   ]
  },
  {
   "cell_type": "code",
   "execution_count": 14,
   "metadata": {},
   "outputs": [],
   "source": [
    "template_log_train_list = template_log_train[\"EventTemplateIdent_cleansed\"].astype('str').tolist()\n",
    "template_log_test_list = template_log_test[\"EventTemplateIdent_cleansed\"].astype('str').tolist()"
   ]
  },
  {
   "cell_type": "code",
   "execution_count": 15,
   "metadata": {},
   "outputs": [
    {
     "name": "stderr",
     "output_type": "stream",
     "text": [
      "/var/folders/jy/qhf5nsts0_77mx3gxd3731800000gn/T/ipykernel_35510/2881305911.py:4: FutureWarning: The default dtype for empty Series will be 'object' instead of 'float64' in a future version. Specify a dtype explicitly to silence this warning.\n",
      "  template_log_train[\"EventTemplateIdent_token\"] = pd.Series(token_train_list)\n"
     ]
    }
   ],
   "source": [
    "tokenizer = RegexpTokenizer(r'[A-Z][a-z]+|\\w+')\n",
    "token_train_list = [tokenizer.tokenize(sen) for sen in template_log_train_list]\n",
    "token_test_list = [tokenizer.tokenize(sen) for sen in template_log_test_list]\n",
    "\n",
    "template_log_train[\"EventTemplateIdent_token\"] = pd.Series(token_train_list)\n",
    "template_log_test[\"EventTemplateIdent_token\"] = pd.Series(token_test_list)\n",
    "map_token_train = { row[0]: row[1] \\\n",
    "    for row in tqdm(\n",
    "        template_log_train[[\"EventId\", \"EventTemplateIdent_token\"]].values,\n",
    "        desc=\"Mapping ID & token\"\n",
    "        ) }\n",
    "train_set[\"Token\"] = train_set.EventId.map(lambda id: map_token_train[id])\n",
    "map_token_test = { row[0]: row[1] \\\n",
    "    for row in tqdm(\n",
    "        template_log_test[[\"EventId\", \"EventTemplateIdent_token\"]].values,\n",
    "        desc=\"Mapping ID & token\"\n",
    "        ) }\n",
    "test_set[\"Token\"] = test_set.EventId.map(lambda id: map_token_test[id])"
   ]
  },
  {
   "cell_type": "code",
   "execution_count": 16,
   "metadata": {},
   "outputs": [
    {
     "name": "stdout",
     "output_type": "stream",
     "text": [
      "start train word2Vec model. . . . .\n"
     ]
    }
   ],
   "source": [
    "# [mail.cup.com, mail.insect.com, mail.onion.com, mail.spiral.com] => choose one of this to AIT_daemon_<Target>_word2Vec\n",
    "trainWord2VecModelType2(token_train_list, \"AIT_daemon_mail.cup.com_word2Vec\")"
   ]
  },
  {
   "cell_type": "code",
   "execution_count": null,
   "metadata": {},
   "outputs": [],
   "source": [
    "with open(os.path.join(data_dir, \"train_set.pkl\"), \"wb\") as fw:\n",
    "    pickle.dump(train_set, fw)\n",
    "with open(os.path.join(data_dir, \"test_set.pkl\"), \"wb\") as fw:\n",
    "    pickle.dump(test_set, fw)\n",
    "with open(os.path.join(data_dir, \"template_train_set.pkl\"), \"wb\") as fw:\n",
    "    pickle.dump(template_log_train, fw)\n",
    "with open(os.path.join(data_dir, \"template_test_set.pkl\"), \"wb\") as fw:\n",
    "    pickle.dump(template_log_test, fw)"
   ]
  }
 ],
 "metadata": {
  "kernelspec": {
   "display_name": "torch-gpu",
   "language": "python",
   "name": "python3"
  },
  "language_info": {
   "codemirror_mode": {
    "name": "ipython",
    "version": 3
   },
   "file_extension": ".py",
   "mimetype": "text/x-python",
   "name": "python",
   "nbconvert_exporter": "python",
   "pygments_lexer": "ipython3",
   "version": "3.8.15 (default, Nov 24 2022, 08:57:44) \n[Clang 14.0.6 ]"
  },
  "orig_nbformat": 4,
  "vscode": {
   "interpreter": {
    "hash": "ce4081ce2b9ab9ecfe855a4e9c840ae25394b5d73782b2027cad0c1ddfa0aa02"
   }
  }
 },
 "nbformat": 4,
 "nbformat_minor": 2
}
