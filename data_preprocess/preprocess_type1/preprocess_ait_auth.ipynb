{
 "cells": [
  {
   "cell_type": "code",
   "execution_count": null,
   "metadata": {},
   "outputs": [],
   "source": [
    "import pandas as pd\n",
    "import numpy as np\n",
    "\n",
    "from gensim.models import Word2Vec, KeyedVectors\n",
    "from nltk.tokenize import RegexpTokenizer\n",
    "\n",
    "import os\n",
    "import sys\n",
    "\n",
    "sys.path.append(\"../../data_preprocess/\")\n",
    "\n",
    "import pickle\n",
    "import re\n",
    "from utils import json_pretty_dump, word2VecContinueLearning, trainWord2VecModelType2, tokenizeData, convertWord2Vec, text_cleansing, parse_datetime, trainWord2VecModel, parse_month\n",
    "from sklearn.model_selection import train_test_split\n",
    "\n",
    "seed = 42\n",
    "np.random.seed(seed)\n",
    "\n",
    "spec_dir = [\n",
    "    \"AIT_auth_mail.cup.com\",\n",
    "    \"AIT_auth_mail.insect.com\",\n",
    "    \"AIT_auth_mail.onion.com\",\n",
    "    \"AIT_auth_mail.spiral.com\",\n",
    "]\n",
    "\n",
    "webs = [\n",
    "    \"mail.cup.com\",\n",
    "    \"mail.insect.com\",\n",
    "    \"mail.onion.com\",\n",
    "    \"mail.spiral.com\",\n",
    "]\n",
    "\n",
    "data_dir = f\"../processed/ait_auth_preprocessed/{webs[0]}\"\n",
    "\n",
    "params = {\n",
    "    \"log_file\": f\"../../Drain_result/{spec_dir[0]}/auth.log_structured.csv\",\n",
    "    \"template_file\": f\"../../Drain_result/{spec_dir[0]}/auth.log_templates.csv\",\n",
    "    \"label_file\": f\"../../AIT-LDS-v1_1/labels/{webs[0]}/auth.log\",\n",
    "    \"test_ratio\": 0.2,\n",
    "    \"train_anomaly_ratio\": 0.0,\n",
    "    \"train_word2Vec\": True\n",
    "}\n",
    "\n",
    "data_name = f'ait_auth_{params[\"train_anomaly_ratio\"]}_tar'\n",
    "\n",
    "data_dir = os.path.join(data_dir, data_name)\n",
    "os.makedirs(data_dir, exist_ok=True)"
   ]
  },
  {
   "cell_type": "code",
   "execution_count": null,
   "metadata": {},
   "outputs": [],
   "source": [
    "struct_log = pd.read_csv(params[\"log_file\"], engine=\"c\", na_filter=False, memory_map=True)\n",
    "label_file = pd.read_csv(params[\"label_file\"], engine=\"c\", na_filter=False, memory_map=True)\n"
   ]
  },
  {
   "cell_type": "code",
   "execution_count": null,
   "metadata": {},
   "outputs": [],
   "source": [
    "time_labels = []\n",
    "line_labels = []\n",
    "for index,line in label_file.iterrows():\n",
    "    time_labels.append(0 if line['time_label'] == 0 or line['time_label'] == \"0\" else 1)\n",
    "    line_labels.append(0 if line['line_label'] == 0 or line['line_label'] == \"0\" else 1)\n",
    "struct_log[\"time_label\"] = time_labels\n",
    "struct_log[\"line_label\"] = line_labels"
   ]
  },
  {
   "cell_type": "code",
   "execution_count": null,
   "metadata": {},
   "outputs": [],
   "source": [
    "eventTemplateTokenTrain = []\n",
    "eventTemplateTokenTest = []\n",
    "eventVectors = []"
   ]
  },
  {
   "cell_type": "code",
   "execution_count": null,
   "metadata": {},
   "outputs": [],
   "source": [
    "for index, row in struct_log.iterrows():\n",
    "        struct_log.loc[index, \"Month\"] = parse_month(row[\"Month\"])"
   ]
  },
  {
   "cell_type": "code",
   "execution_count": null,
   "metadata": {},
   "outputs": [],
   "source": [
    "train_data, test_data = train_test_split(struct_log, test_size=params[\"test_ratio\"], random_state=42)\n",
    "train_data = train_data.loc[(train_data['time_label'] == 0) & (train_data[\"line_label\"] == 0)]"
   ]
  },
  {
   "cell_type": "code",
   "execution_count": null,
   "metadata": {},
   "outputs": [],
   "source": [
    "train_data = train_data.sort_values(by=[\"Month\", \"Day\", \"Time\"])\n",
    "test_data = test_data.sort_values(by=[\"Month\", \"Day\", \"Time\"])"
   ]
  },
  {
   "cell_type": "code",
   "execution_count": null,
   "metadata": {},
   "outputs": [],
   "source": [
    "train_data[\"EventTemplateIdent_cleansed\"] = train_data.EventTemplateIdent.map(text_cleansing)\n",
    "test_data[\"EventTemplateIdent_cleansed\"] = test_data.EventTemplateIdent.map(text_cleansing)"
   ]
  },
  {
   "cell_type": "code",
   "execution_count": null,
   "metadata": {},
   "outputs": [],
   "source": [
    "tokenizer = RegexpTokenizer(r'[A-Z][a-z]+|\\w+')\n",
    "train_data[\"Token\"] = [tokenizer.tokenize(sentence) for sentence in train_data[\"EventTemplateIdent_cleansed\"]]\n",
    "test_data[\"Token\"] = [tokenizer.tokenize(sentence) for sentence in test_data[\"EventTemplateIdent_cleansed\"]]"
   ]
  },
  {
   "cell_type": "code",
   "execution_count": null,
   "metadata": {},
   "outputs": [],
   "source": [
    "trainWord2VecModelType2(train_data[\"Token\"], \"auth_word2Vec\")"
   ]
  },
  {
   "cell_type": "code",
   "execution_count": null,
   "metadata": {},
   "outputs": [],
   "source": [
    "with open(os.path.join(data_dir, \"train_set.pkl\"), \"wb\") as fw:\n",
    "    pickle.dump(train_data, fw)\n",
    "with open(os.path.join(data_dir, \"test_set.pkl\"), \"wb\") as fw:\n",
    "    pickle.dump(test_data, fw)"
   ]
  }
 ],
 "metadata": {
  "kernelspec": {
   "display_name": "torch-gpu",
   "language": "python",
   "name": "python3"
  },
  "language_info": {
   "codemirror_mode": {
    "name": "ipython",
    "version": 3
   },
   "file_extension": ".py",
   "mimetype": "text/x-python",
   "name": "python",
   "nbconvert_exporter": "python",
   "pygments_lexer": "ipython3",
   "version": "3.8.15"
  },
  "orig_nbformat": 4,
  "vscode": {
   "interpreter": {
    "hash": "ce4081ce2b9ab9ecfe855a4e9c840ae25394b5d73782b2027cad0c1ddfa0aa02"
   }
  }
 },
 "nbformat": 4,
 "nbformat_minor": 2
}
