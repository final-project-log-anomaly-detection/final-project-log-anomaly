{
 "cells": [
  {
   "cell_type": "code",
   "execution_count": 1,
   "metadata": {},
   "outputs": [],
   "source": [
    "import pandas as pd\n",
    "import numpy as np\n",
    "\n",
    "from gensim.models import Word2Vec, KeyedVectors\n",
    "from nltk.tokenize import RegexpTokenizer\n",
    "\n",
    "import os\n",
    "import sys\n",
    "\n",
    "sys.path.append(\"../../data_preprocess/\")\n",
    "\n",
    "import pickle\n",
    "import re\n",
    "from utils import json_pretty_dump, word2VecContinueLearning, trainWord2VecModelType2, tokenizeData, convertWord2Vec, text_cleansing, parse_datetime, trainWord2VecModel\n",
    "from sklearn.model_selection import train_test_split\n",
    "\n",
    "seed = 42\n",
    "np.random.seed(seed)\n",
    "\n",
    "data_dir = \"../processed/BGL_preprocessed\"\n",
    "\n",
    "params = {\n",
    "    \"log_file\": \"../../Drain_result/BGL_2.log_structured.csv\",\n",
    "    \"template_file\": \"../../Drain_result/BGL_2.log_templates.csv\",\n",
    "    \"test_ratio\": 0.2,\n",
    "    \"train_anomaly_ratio\": 0.0,\n",
    "    \"train_word2Vec\": True\n",
    "}\n",
    "\n",
    "data_name = f'bgl_{params[\"train_anomaly_ratio\"]}_tar'\n",
    "\n",
    "data_dir = os.path.join(data_dir, data_name)\n",
    "os.makedirs(data_dir, exist_ok=True)"
   ]
  },
  {
   "cell_type": "code",
   "execution_count": 2,
   "metadata": {},
   "outputs": [],
   "source": [
    "struct_log = pd.read_csv(params[\"log_file\"], engine=\"c\", na_filter=False, memory_map=True)\n",
    "struct_log['Label'] = struct_log['Label'].map(lambda x: int(x != \"-\"))"
   ]
  },
  {
   "cell_type": "code",
   "execution_count": 3,
   "metadata": {},
   "outputs": [],
   "source": [
    "eventTemplateTokenTrain = []\n",
    "eventTemplateTokenTest = []\n",
    "eventVectors = []"
   ]
  },
  {
   "cell_type": "code",
   "execution_count": 4,
   "metadata": {},
   "outputs": [],
   "source": [
    "train_data, test_data = train_test_split(struct_log, test_size=params[\"test_ratio\"], random_state=42)\n",
    "train_data = train_data.loc[train_data['Label'] == 0]"
   ]
  },
  {
   "cell_type": "code",
   "execution_count": 5,
   "metadata": {},
   "outputs": [],
   "source": [
    "train_data = train_data.sort_values(by=['Time'])\n",
    "test_data = test_data.sort_values(by=['Time'])\n",
    "\n",
    "eventTemplateTokenTrain = tokenizeData(train_data)\n",
    "eventTemplateTokenTest = tokenizeData(test_data)"
   ]
  },
  {
   "cell_type": "code",
   "execution_count": 6,
   "metadata": {},
   "outputs": [
    {
     "name": "stdout",
     "output_type": "stream",
     "text": [
      "start train word2Vec model. . . . .\n",
      "finish train word2Vec model . . . . . ^^\n"
     ]
    }
   ],
   "source": [
    "if params[\"train_word2Vec\"]:\n",
    "    trainWord2VecModel(eventTemplateTokenTrain, 'word2vec_bgl')"
   ]
  },
  {
   "cell_type": "code",
   "execution_count": 7,
   "metadata": {},
   "outputs": [],
   "source": [
    "model = Word2Vec.load(\"../../word2vec_bgl.model\")\n",
    "eventVectors = convertWord2Vec(eventTemplateTokenTrain, model)\n",
    "train_data['EventTemplateIdentToken'] = eventTemplateTokenTrain\n",
    "train_data['Vectors'] = eventVectors"
   ]
  },
  {
   "cell_type": "code",
   "execution_count": 8,
   "metadata": {},
   "outputs": [],
   "source": [
    "eventVectors = convertWord2Vec(eventTemplateTokenTest, model)\n",
    "test_data['EventTemplateIdentToken'] = eventTemplateTokenTest\n",
    "test_data['Vectors'] = eventVectors"
   ]
  },
  {
   "cell_type": "code",
   "execution_count": 9,
   "metadata": {},
   "outputs": [],
   "source": [
    "with open(os.path.join(data_dir, \"session_train.pkl\"), \"wb\") as fw:\n",
    "    pickle.dump(train_data, fw)\n",
    "with open(os.path.join(data_dir, \"session_test.pkl\"), \"wb\") as fw:\n",
    "    pickle.dump(test_data, fw)\n",
    "json_pretty_dump(params, os.path.join(data_dir, \"data_desc.json\"))"
   ]
  }
 ],
 "metadata": {
  "kernelspec": {
   "display_name": "torch-gpu",
   "language": "python",
   "name": "python3"
  },
  "language_info": {
   "codemirror_mode": {
    "name": "ipython",
    "version": 3
   },
   "file_extension": ".py",
   "mimetype": "text/x-python",
   "name": "python",
   "nbconvert_exporter": "python",
   "pygments_lexer": "ipython3",
   "version": "3.8.15"
  },
  "orig_nbformat": 4,
  "vscode": {
   "interpreter": {
    "hash": "ce4081ce2b9ab9ecfe855a4e9c840ae25394b5d73782b2027cad0c1ddfa0aa02"
   }
  }
 },
 "nbformat": 4,
 "nbformat_minor": 2
}
