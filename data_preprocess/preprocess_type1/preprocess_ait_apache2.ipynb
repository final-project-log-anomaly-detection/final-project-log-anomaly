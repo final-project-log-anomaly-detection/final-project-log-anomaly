{
 "cells": [
  {
   "cell_type": "code",
   "execution_count": 1,
   "metadata": {},
   "outputs": [],
   "source": [
    "import pandas as pd\n",
    "import numpy as np\n",
    "\n",
    "from gensim.models import Word2Vec, KeyedVectors\n",
    "from nltk.tokenize import RegexpTokenizer\n",
    "\n",
    "import os\n",
    "import sys\n",
    "\n",
    "sys.path.append(\"../../data_preprocess/\")\n",
    "\n",
    "import pickle\n",
    "import re\n",
    "from utils import json_pretty_dump, word2VecContinueLearning, trainWord2VecModelType2, tokenizeData, convertWord2Vec, text_cleansing, parse_datetime, trainWord2VecModel\n",
    "from sklearn.model_selection import train_test_split\n",
    "\n",
    "seed = 42\n",
    "np.random.seed(seed)\n",
    "\n",
    "spec_dir = [\n",
    "    \"apache2_mail.cup.com\",\n",
    "    \"apache2_mail.insect.com\",\n",
    "    \"apache2_mail.onion.com\",\n",
    "    \"apache2_mail.spiral.com\",\n",
    "]\n",
    "\n",
    "webs = [\n",
    "    \"mail.cup.com\",\n",
    "    \"mail.insect.com\",\n",
    "    \"mail.onion.com\",\n",
    "    \"mail.spiral.com\",\n",
    "]\n",
    "\n",
    "data_dir = f\"../processed/ait_apache2_preprocessed/{webs[0]}\"\n",
    "\n",
    "params = {\n",
    "    \"log_file\": f\"../../Drain_result/{spec_dir[0]}/mail.cup.com-access.log_structured.csv\",\n",
    "    \"template_file\": f\"../../Drain_result/{spec_dir[0]}/mail.cup.com-access.log_templates.csv\",\n",
    "    \"label_file\": f\"../../AIT-LDS-v1_1/labels/{webs[0]}/apache2/mail.cup.com-access.log\",\n",
    "    \"test_ratio\": 0.2,\n",
    "    \"train_anomaly_ratio\": 0.0,\n",
    "    \"train_word2Vec\": True\n",
    "}\n",
    "\n",
    "data_name = f'ait_apache2_{params[\"train_anomaly_ratio\"]}_tar'\n",
    "\n",
    "data_dir = os.path.join(data_dir, data_name)\n",
    "os.makedirs(data_dir, exist_ok=True)"
   ]
  },
  {
   "cell_type": "code",
   "execution_count": 2,
   "metadata": {},
   "outputs": [],
   "source": [
    "struct_log = pd.read_csv(params[\"log_file\"], engine=\"c\", na_filter=False, memory_map=True)\n",
    "label_file = pd.read_csv(params[\"label_file\"], engine=\"c\", na_filter=False, memory_map=True)\n"
   ]
  },
  {
   "cell_type": "code",
   "execution_count": 18,
   "metadata": {},
   "outputs": [],
   "source": [
    "time_labels = []\n",
    "line_labels = []\n",
    "for index,line in label_file.iterrows():\n",
    "    time_labels.append(0 if line['time_label'] == 0 or line['time_label'] == \"0\" else 1)\n",
    "    line_labels.append(0 if line['line_label'] == 0 or line['line_label'] == \"0\" else 1)\n",
    "struct_log[\"time_label\"] = time_labels\n",
    "struct_log[\"line_label\"] = line_labels"
   ]
  },
  {
   "cell_type": "code",
   "execution_count": 4,
   "metadata": {},
   "outputs": [],
   "source": [
    "eventTemplateTokenTrain = []\n",
    "eventTemplateTokenTest = []\n",
    "eventVectors = []"
   ]
  },
  {
   "cell_type": "code",
   "execution_count": 5,
   "metadata": {},
   "outputs": [],
   "source": [
    "for index, row in struct_log.iterrows():\n",
    "        struct_log.loc[index, \"DateTime\"] = parse_datetime(row)"
   ]
  },
  {
   "cell_type": "code",
   "execution_count": 21,
   "metadata": {},
   "outputs": [],
   "source": [
    "train_data, test_data = train_test_split(struct_log, test_size=params[\"test_ratio\"], random_state=42)\n",
    "train_data = train_data.loc[(train_data['time_label'] == 0) & (train_data[\"line_label\"] == 0)]"
   ]
  },
  {
   "cell_type": "code",
   "execution_count": 22,
   "metadata": {},
   "outputs": [],
   "source": [
    "train_data = train_data.sort_values(by=['DateTime'])\n",
    "test_data = test_data.sort_values(by=['DateTime'])"
   ]
  },
  {
   "cell_type": "code",
   "execution_count": 25,
   "metadata": {},
   "outputs": [],
   "source": [
    "train_data[\"EventTemplateIdent_cleansed\"] = train_data.EventTemplateIdent.map(text_cleansing)\n",
    "test_data[\"EventTemplateIdent_cleansed\"] = test_data.EventTemplateIdent.map(text_cleansing)"
   ]
  },
  {
   "cell_type": "code",
   "execution_count": 28,
   "metadata": {},
   "outputs": [],
   "source": [
    "tokenizer = RegexpTokenizer(r'[A-Z][a-z]+|\\w+')\n",
    "train_data[\"Token\"] = [tokenizer.tokenize(sentence) for sentence in train_data[\"EventTemplateIdent_cleansed\"]]\n",
    "test_data[\"Token\"] = [tokenizer.tokenize(sentence) for sentence in test_data[\"EventTemplateIdent_cleansed\"]]"
   ]
  },
  {
   "cell_type": "code",
   "execution_count": 36,
   "metadata": {},
   "outputs": [
    {
     "data": {
      "text/html": [
       "<div>\n",
       "<style scoped>\n",
       "    .dataframe tbody tr th:only-of-type {\n",
       "        vertical-align: middle;\n",
       "    }\n",
       "\n",
       "    .dataframe tbody tr th {\n",
       "        vertical-align: top;\n",
       "    }\n",
       "\n",
       "    .dataframe thead th {\n",
       "        text-align: right;\n",
       "    }\n",
       "</style>\n",
       "<table border=\"1\" class=\"dataframe\">\n",
       "  <thead>\n",
       "    <tr style=\"text-align: right;\">\n",
       "      <th></th>\n",
       "      <th>LineId</th>\n",
       "      <th>IP</th>\n",
       "      <th>DateTime</th>\n",
       "      <th>Content</th>\n",
       "      <th>EventId</th>\n",
       "      <th>EventTemplate</th>\n",
       "      <th>EventTemplateIdent</th>\n",
       "      <th>ParameterList</th>\n",
       "      <th>time_label</th>\n",
       "      <th>line_label</th>\n",
       "      <th>EventTemplateIdent_cleansed</th>\n",
       "      <th>Token</th>\n",
       "    </tr>\n",
       "  </thead>\n",
       "  <tbody>\n",
       "  </tbody>\n",
       "</table>\n",
       "</div>"
      ],
      "text/plain": [
       "Empty DataFrame\n",
       "Columns: [LineId, IP, DateTime, Content, EventId, EventTemplate, EventTemplateIdent, ParameterList, time_label, line_label, EventTemplateIdent_cleansed, Token]\n",
       "Index: []"
      ]
     },
     "execution_count": 36,
     "metadata": {},
     "output_type": "execute_result"
    }
   ],
   "source": [
    "# test_data[(test_data[\"time_label\"] == \"1\") | (test_data[\"line_label\"] == \"1\")]"
   ]
  },
  {
   "cell_type": "code",
   "execution_count": 37,
   "metadata": {},
   "outputs": [
    {
     "name": "stdout",
     "output_type": "stream",
     "text": [
      "start train word2Vec model. . . . .\n",
      "finish train word2Vec model . . . . . ^^\n"
     ]
    }
   ],
   "source": [
    "trainWord2VecModelType2(train_data[\"Token\"], \"AIT_apache2_word2Vec\")"
   ]
  },
  {
   "cell_type": "code",
   "execution_count": 38,
   "metadata": {},
   "outputs": [],
   "source": [
    "with open(os.path.join(data_dir, \"train_set.pkl\"), \"wb\") as fw:\n",
    "    pickle.dump(train_data, fw)\n",
    "with open(os.path.join(data_dir, \"test_set.pkl\"), \"wb\") as fw:\n",
    "    pickle.dump(test_data, fw)"
   ]
  }
 ],
 "metadata": {
  "kernelspec": {
   "display_name": "torch-gpu",
   "language": "python",
   "name": "python3"
  },
  "language_info": {
   "codemirror_mode": {
    "name": "ipython",
    "version": 3
   },
   "file_extension": ".py",
   "mimetype": "text/x-python",
   "name": "python",
   "nbconvert_exporter": "python",
   "pygments_lexer": "ipython3",
   "version": "3.8.15"
  },
  "orig_nbformat": 4,
  "vscode": {
   "interpreter": {
    "hash": "ce4081ce2b9ab9ecfe855a4e9c840ae25394b5d73782b2027cad0c1ddfa0aa02"
   }
  }
 },
 "nbformat": 4,
 "nbformat_minor": 2
}
